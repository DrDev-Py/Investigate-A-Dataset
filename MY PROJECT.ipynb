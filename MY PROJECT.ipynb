{
 "cells": [
  {
   "cell_type": "markdown",
   "metadata": {},
   "source": [
    "# Project: Investigate a Dataset (Medical Appointment - No Shows)\n",
    "\n",
    "## Table of Contents\n",
    "<ul>\n",
    "<li><a href=\"#intro\">Introduction</a></li>\n",
    "<li><a href=\"#wrangling\">Data Wrangling</a></li>\n",
    "<li><a href=\"#eda\">Exploratory Data Analysis</a></li>\n",
    "<li><a href=\"#conclusions\">Conclusions</a></li>\n",
    "</ul>"
   ]
  },
  {
   "cell_type": "markdown",
   "metadata": {},
   "source": [
    "<a id='intro'></a>\n",
    "## Introduction\n",
    "\n",
    "<p>This dataset collects information from 100,000 medical appointments in Brazil and is focused on the question of whether or not patients show up for their appointment.\n",
    "</p> \n",
    "\n",
    "<p> It contains a number of characteristics about each person that has an appointment. \n",
    "    Characteristics include: \n",
    "</p>\n",
    "\n",
    "<ul>\n",
    "<li><b>Patient ID</b>\n",
    "    Identification number of the patient\n",
    "    </li>\n",
    "<li><b>Appointment ID</b>\n",
    "    The identification of each apppointment.\n",
    "    </li>\n",
    "<li><b>Gender</b>\n",
    "    This can be either male or female\n",
    "    </li>\n",
    "<li><b>Scheduled Day</b>\n",
    "    This is the day the appointment was scheduled\n",
    "    </li>\n",
    "<li><b>Appointment Day</b>\n",
    "    This is the actual day of the appointment\n",
    "    </li>\n",
    "<li><b>Age</b>\n",
    "    This is the age of the patient\n",
    "    </li>\n",
    "    \n",
    "<li><b>Neighbourhood</b>\n",
    "    shows the area where a patient lives.\n",
    "    </li>\n",
    "    \n",
    "<li><b>Scholarship</b>\n",
    "    This tells us whether they are on <a href =\"https://www.google.com/url?q=https://en.wikipedia.org/wiki/Bolsa_Fam%25C3%25ADlia&sa=D&ust=1532469042119000\">Scholarship</a> or not.\n",
    "    </li>\n",
    "<li><b>Hypertension</b>\n",
    "    This indicates whether they are hypertensive or not, 1 for yes, 0 for no.\n",
    "    </li>\n",
    "<li><b>Diabetes</b>\n",
    "    This indicates whether they are diabetic or not, 1 for yes, 0 for no.\n",
    "    </li>\n",
    "<li><b>Alcoholism</b>\n",
    "    This indicates whether they are alcoholic or not, 1 for yes, 0 for no.\n",
    "    </li>\n",
    "<li><b>Handcap</b>\n",
    "    This indicates whether they are handicapped or not.\n",
    "    </li>\n",
    "<li><b>SMS_received</b>\n",
    "    This indicates whether they are hypertensive or not, 1 for yes, 0 for no.\n",
    "    </li>\n",
    "<li><b>No_show</b>\n",
    "    This indicates whether they showed up for the appointment or not.\n",
    "    No if they showed up,\n",
    "    Yes if they didn't\n",
    "    </li>\n",
    "</ul>\n",
    "\n",
    "## Questions\n",
    "<ol>\n",
    "    <li><a href =\"#question1\">Which gender is more likely to miss an appoinment?</a></li>\n",
    "    <li><a href=\"#question2\">What is the age group of those who missed medical appointment?</a></li>\n",
    "    <li><a href=\"#question3\">Is being on the Scholarship a factor affecting showing up for appointments?</a></li>\n",
    "    <li><a href=\"#question4\">Did receiving an SMS lead to showing up for Appointments?</a></li>\n",
    "    <li><a href=#question5>What is the time difference between the Schedule and Appointment Days of People who showed up and those that missed that appointments?</a></li>\n",
    "</ol>"
   ]
  },
  {
   "cell_type": "code",
   "execution_count": 545,
   "metadata": {},
   "outputs": [],
   "source": [
    "# importing packages and dataset.\n",
    "\n",
    "import pandas as pd \n",
    "import numpy as np \n",
    "import matplotlib.pyplot as plt \n",
    "import seaborn as sns\n",
    "%matplotlib inline"
   ]
  },
  {
   "cell_type": "markdown",
   "metadata": {},
   "source": [
    "<a id='wrangling'></a>\n",
    "## Data Wrangling\n",
    "\n",
    "> checking out the data\n",
    "### General Properties"
   ]
  },
  {
   "cell_type": "code",
   "execution_count": 546,
   "metadata": {},
   "outputs": [
    {
     "data": {
      "text/html": [
       "<div>\n",
       "<style scoped>\n",
       "    .dataframe tbody tr th:only-of-type {\n",
       "        vertical-align: middle;\n",
       "    }\n",
       "\n",
       "    .dataframe tbody tr th {\n",
       "        vertical-align: top;\n",
       "    }\n",
       "\n",
       "    .dataframe thead th {\n",
       "        text-align: right;\n",
       "    }\n",
       "</style>\n",
       "<table border=\"1\" class=\"dataframe\">\n",
       "  <thead>\n",
       "    <tr style=\"text-align: right;\">\n",
       "      <th></th>\n",
       "      <th>PatientId</th>\n",
       "      <th>AppointmentID</th>\n",
       "      <th>Gender</th>\n",
       "      <th>ScheduledDay</th>\n",
       "      <th>AppointmentDay</th>\n",
       "      <th>Age</th>\n",
       "      <th>Neighbourhood</th>\n",
       "      <th>Scholarship</th>\n",
       "      <th>Hipertension</th>\n",
       "      <th>Diabetes</th>\n",
       "      <th>Alcoholism</th>\n",
       "      <th>Handcap</th>\n",
       "      <th>SMS_received</th>\n",
       "      <th>No-show</th>\n",
       "    </tr>\n",
       "  </thead>\n",
       "  <tbody>\n",
       "    <tr>\n",
       "      <th>0</th>\n",
       "      <td>2.987250e+13</td>\n",
       "      <td>5642903</td>\n",
       "      <td>F</td>\n",
       "      <td>2016-04-29T18:38:08Z</td>\n",
       "      <td>2016-04-29T00:00:00Z</td>\n",
       "      <td>62</td>\n",
       "      <td>JARDIM DA PENHA</td>\n",
       "      <td>0</td>\n",
       "      <td>1</td>\n",
       "      <td>0</td>\n",
       "      <td>0</td>\n",
       "      <td>0</td>\n",
       "      <td>0</td>\n",
       "      <td>No</td>\n",
       "    </tr>\n",
       "    <tr>\n",
       "      <th>1</th>\n",
       "      <td>5.589978e+14</td>\n",
       "      <td>5642503</td>\n",
       "      <td>M</td>\n",
       "      <td>2016-04-29T16:08:27Z</td>\n",
       "      <td>2016-04-29T00:00:00Z</td>\n",
       "      <td>56</td>\n",
       "      <td>JARDIM DA PENHA</td>\n",
       "      <td>0</td>\n",
       "      <td>0</td>\n",
       "      <td>0</td>\n",
       "      <td>0</td>\n",
       "      <td>0</td>\n",
       "      <td>0</td>\n",
       "      <td>No</td>\n",
       "    </tr>\n",
       "    <tr>\n",
       "      <th>2</th>\n",
       "      <td>4.262962e+12</td>\n",
       "      <td>5642549</td>\n",
       "      <td>F</td>\n",
       "      <td>2016-04-29T16:19:04Z</td>\n",
       "      <td>2016-04-29T00:00:00Z</td>\n",
       "      <td>62</td>\n",
       "      <td>MATA DA PRAIA</td>\n",
       "      <td>0</td>\n",
       "      <td>0</td>\n",
       "      <td>0</td>\n",
       "      <td>0</td>\n",
       "      <td>0</td>\n",
       "      <td>0</td>\n",
       "      <td>No</td>\n",
       "    </tr>\n",
       "    <tr>\n",
       "      <th>3</th>\n",
       "      <td>8.679512e+11</td>\n",
       "      <td>5642828</td>\n",
       "      <td>F</td>\n",
       "      <td>2016-04-29T17:29:31Z</td>\n",
       "      <td>2016-04-29T00:00:00Z</td>\n",
       "      <td>8</td>\n",
       "      <td>PONTAL DE CAMBURI</td>\n",
       "      <td>0</td>\n",
       "      <td>0</td>\n",
       "      <td>0</td>\n",
       "      <td>0</td>\n",
       "      <td>0</td>\n",
       "      <td>0</td>\n",
       "      <td>No</td>\n",
       "    </tr>\n",
       "    <tr>\n",
       "      <th>4</th>\n",
       "      <td>8.841186e+12</td>\n",
       "      <td>5642494</td>\n",
       "      <td>F</td>\n",
       "      <td>2016-04-29T16:07:23Z</td>\n",
       "      <td>2016-04-29T00:00:00Z</td>\n",
       "      <td>56</td>\n",
       "      <td>JARDIM DA PENHA</td>\n",
       "      <td>0</td>\n",
       "      <td>1</td>\n",
       "      <td>1</td>\n",
       "      <td>0</td>\n",
       "      <td>0</td>\n",
       "      <td>0</td>\n",
       "      <td>No</td>\n",
       "    </tr>\n",
       "  </tbody>\n",
       "</table>\n",
       "</div>"
      ],
      "text/plain": [
       "      PatientId  AppointmentID Gender          ScheduledDay  \\\n",
       "0  2.987250e+13        5642903      F  2016-04-29T18:38:08Z   \n",
       "1  5.589978e+14        5642503      M  2016-04-29T16:08:27Z   \n",
       "2  4.262962e+12        5642549      F  2016-04-29T16:19:04Z   \n",
       "3  8.679512e+11        5642828      F  2016-04-29T17:29:31Z   \n",
       "4  8.841186e+12        5642494      F  2016-04-29T16:07:23Z   \n",
       "\n",
       "         AppointmentDay  Age      Neighbourhood  Scholarship  Hipertension  \\\n",
       "0  2016-04-29T00:00:00Z   62    JARDIM DA PENHA            0             1   \n",
       "1  2016-04-29T00:00:00Z   56    JARDIM DA PENHA            0             0   \n",
       "2  2016-04-29T00:00:00Z   62      MATA DA PRAIA            0             0   \n",
       "3  2016-04-29T00:00:00Z    8  PONTAL DE CAMBURI            0             0   \n",
       "4  2016-04-29T00:00:00Z   56    JARDIM DA PENHA            0             1   \n",
       "\n",
       "   Diabetes  Alcoholism  Handcap  SMS_received No-show  \n",
       "0         0           0        0             0      No  \n",
       "1         0           0        0             0      No  \n",
       "2         0           0        0             0      No  \n",
       "3         0           0        0             0      No  \n",
       "4         1           0        0             0      No  "
      ]
     },
     "execution_count": 546,
     "metadata": {},
     "output_type": "execute_result"
    }
   ],
   "source": [
    "# loading data\n",
    "df = pd.read_csv('noshowappointments-kagglev2-may-2016.csv')\n",
    "\n",
    "# view the first few rows.\n",
    "df.head()"
   ]
  },
  {
   "cell_type": "code",
   "execution_count": 547,
   "metadata": {},
   "outputs": [
    {
     "data": {
      "text/plain": [
       "(110527, 14)"
      ]
     },
     "execution_count": 547,
     "metadata": {},
     "output_type": "execute_result"
    }
   ],
   "source": [
    "# Checking for the number of contents in our dataset.\n",
    "df.shape"
   ]
  },
  {
   "cell_type": "markdown",
   "metadata": {},
   "source": [
    "> The dataset has about __110527 rows with 14 columns__ as described in the introduction."
   ]
  },
  {
   "cell_type": "code",
   "execution_count": 548,
   "metadata": {},
   "outputs": [
    {
     "name": "stdout",
     "output_type": "stream",
     "text": [
      "<class 'pandas.core.frame.DataFrame'>\n",
      "RangeIndex: 110527 entries, 0 to 110526\n",
      "Data columns (total 14 columns):\n",
      " #   Column          Non-Null Count   Dtype  \n",
      "---  ------          --------------   -----  \n",
      " 0   PatientId       110527 non-null  float64\n",
      " 1   AppointmentID   110527 non-null  int64  \n",
      " 2   Gender          110527 non-null  object \n",
      " 3   ScheduledDay    110527 non-null  object \n",
      " 4   AppointmentDay  110527 non-null  object \n",
      " 5   Age             110527 non-null  int64  \n",
      " 6   Neighbourhood   110527 non-null  object \n",
      " 7   Scholarship     110527 non-null  int64  \n",
      " 8   Hipertension    110527 non-null  int64  \n",
      " 9   Diabetes        110527 non-null  int64  \n",
      " 10  Alcoholism      110527 non-null  int64  \n",
      " 11  Handcap         110527 non-null  int64  \n",
      " 12  SMS_received    110527 non-null  int64  \n",
      " 13  No-show         110527 non-null  object \n",
      "dtypes: float64(1), int64(8), object(5)\n",
      "memory usage: 9.7+ MB\n"
     ]
    }
   ],
   "source": [
    "# basic information on our dataset\n",
    "df.info()"
   ]
  },
  {
   "cell_type": "markdown",
   "metadata": {},
   "source": [
    "\n",
    ">__i__\n",
    ">\n",
    ">The column names should be all lower case for consistency and to make it easier to be called when necessary.The column **_No-show_** should also be renamed, the hyphen \"-\" changed to an underscore\"_\" for consistency.\n",
    ">\n",
    "\n",
    ">__ii__\n",
    ">\n",
    "> The **PatientID** and **AppointmentID** columns are **float** and **int** datatypes respectively, since they are both identifiers, they should be strings.\n",
    "\n",
    ">__iii__\n",
    ">\n",
    ">The **ScheduledDay** and **AppointmentDay** columns are strings, from the column information in the introduction they should be **datetime** objects. \n",
    "> \n",
    ">Also the appointment day should always be later than the schedule day. As the schedule day is when the future appointment day is fixed.\n",
    ">\n",
    "> A new column containing the difference between the 2 columns would make it easier to do my analysis on question 5\n"
   ]
  },
  {
   "cell_type": "code",
   "execution_count": 549,
   "metadata": {
    "scrolled": true
   },
   "outputs": [
    {
     "data": {
      "text/html": [
       "<div>\n",
       "<style scoped>\n",
       "    .dataframe tbody tr th:only-of-type {\n",
       "        vertical-align: middle;\n",
       "    }\n",
       "\n",
       "    .dataframe tbody tr th {\n",
       "        vertical-align: top;\n",
       "    }\n",
       "\n",
       "    .dataframe thead th {\n",
       "        text-align: right;\n",
       "    }\n",
       "</style>\n",
       "<table border=\"1\" class=\"dataframe\">\n",
       "  <thead>\n",
       "    <tr style=\"text-align: right;\">\n",
       "      <th></th>\n",
       "      <th>PatientId</th>\n",
       "      <th>AppointmentID</th>\n",
       "      <th>Age</th>\n",
       "      <th>Scholarship</th>\n",
       "      <th>Hipertension</th>\n",
       "      <th>Diabetes</th>\n",
       "      <th>Alcoholism</th>\n",
       "      <th>Handcap</th>\n",
       "      <th>SMS_received</th>\n",
       "    </tr>\n",
       "  </thead>\n",
       "  <tbody>\n",
       "    <tr>\n",
       "      <th>count</th>\n",
       "      <td>1.105270e+05</td>\n",
       "      <td>1.105270e+05</td>\n",
       "      <td>110527.000000</td>\n",
       "      <td>110527.000000</td>\n",
       "      <td>110527.000000</td>\n",
       "      <td>110527.000000</td>\n",
       "      <td>110527.000000</td>\n",
       "      <td>110527.000000</td>\n",
       "      <td>110527.000000</td>\n",
       "    </tr>\n",
       "    <tr>\n",
       "      <th>mean</th>\n",
       "      <td>1.474963e+14</td>\n",
       "      <td>5.675305e+06</td>\n",
       "      <td>37.088874</td>\n",
       "      <td>0.098266</td>\n",
       "      <td>0.197246</td>\n",
       "      <td>0.071865</td>\n",
       "      <td>0.030400</td>\n",
       "      <td>0.022248</td>\n",
       "      <td>0.321026</td>\n",
       "    </tr>\n",
       "    <tr>\n",
       "      <th>std</th>\n",
       "      <td>2.560949e+14</td>\n",
       "      <td>7.129575e+04</td>\n",
       "      <td>23.110205</td>\n",
       "      <td>0.297675</td>\n",
       "      <td>0.397921</td>\n",
       "      <td>0.258265</td>\n",
       "      <td>0.171686</td>\n",
       "      <td>0.161543</td>\n",
       "      <td>0.466873</td>\n",
       "    </tr>\n",
       "    <tr>\n",
       "      <th>min</th>\n",
       "      <td>3.921784e+04</td>\n",
       "      <td>5.030230e+06</td>\n",
       "      <td>-1.000000</td>\n",
       "      <td>0.000000</td>\n",
       "      <td>0.000000</td>\n",
       "      <td>0.000000</td>\n",
       "      <td>0.000000</td>\n",
       "      <td>0.000000</td>\n",
       "      <td>0.000000</td>\n",
       "    </tr>\n",
       "    <tr>\n",
       "      <th>25%</th>\n",
       "      <td>4.172614e+12</td>\n",
       "      <td>5.640286e+06</td>\n",
       "      <td>18.000000</td>\n",
       "      <td>0.000000</td>\n",
       "      <td>0.000000</td>\n",
       "      <td>0.000000</td>\n",
       "      <td>0.000000</td>\n",
       "      <td>0.000000</td>\n",
       "      <td>0.000000</td>\n",
       "    </tr>\n",
       "    <tr>\n",
       "      <th>50%</th>\n",
       "      <td>3.173184e+13</td>\n",
       "      <td>5.680573e+06</td>\n",
       "      <td>37.000000</td>\n",
       "      <td>0.000000</td>\n",
       "      <td>0.000000</td>\n",
       "      <td>0.000000</td>\n",
       "      <td>0.000000</td>\n",
       "      <td>0.000000</td>\n",
       "      <td>0.000000</td>\n",
       "    </tr>\n",
       "    <tr>\n",
       "      <th>75%</th>\n",
       "      <td>9.439172e+13</td>\n",
       "      <td>5.725524e+06</td>\n",
       "      <td>55.000000</td>\n",
       "      <td>0.000000</td>\n",
       "      <td>0.000000</td>\n",
       "      <td>0.000000</td>\n",
       "      <td>0.000000</td>\n",
       "      <td>0.000000</td>\n",
       "      <td>1.000000</td>\n",
       "    </tr>\n",
       "    <tr>\n",
       "      <th>max</th>\n",
       "      <td>9.999816e+14</td>\n",
       "      <td>5.790484e+06</td>\n",
       "      <td>115.000000</td>\n",
       "      <td>1.000000</td>\n",
       "      <td>1.000000</td>\n",
       "      <td>1.000000</td>\n",
       "      <td>1.000000</td>\n",
       "      <td>4.000000</td>\n",
       "      <td>1.000000</td>\n",
       "    </tr>\n",
       "  </tbody>\n",
       "</table>\n",
       "</div>"
      ],
      "text/plain": [
       "          PatientId  AppointmentID            Age    Scholarship  \\\n",
       "count  1.105270e+05   1.105270e+05  110527.000000  110527.000000   \n",
       "mean   1.474963e+14   5.675305e+06      37.088874       0.098266   \n",
       "std    2.560949e+14   7.129575e+04      23.110205       0.297675   \n",
       "min    3.921784e+04   5.030230e+06      -1.000000       0.000000   \n",
       "25%    4.172614e+12   5.640286e+06      18.000000       0.000000   \n",
       "50%    3.173184e+13   5.680573e+06      37.000000       0.000000   \n",
       "75%    9.439172e+13   5.725524e+06      55.000000       0.000000   \n",
       "max    9.999816e+14   5.790484e+06     115.000000       1.000000   \n",
       "\n",
       "        Hipertension       Diabetes     Alcoholism        Handcap  \\\n",
       "count  110527.000000  110527.000000  110527.000000  110527.000000   \n",
       "mean        0.197246       0.071865       0.030400       0.022248   \n",
       "std         0.397921       0.258265       0.171686       0.161543   \n",
       "min         0.000000       0.000000       0.000000       0.000000   \n",
       "25%         0.000000       0.000000       0.000000       0.000000   \n",
       "50%         0.000000       0.000000       0.000000       0.000000   \n",
       "75%         0.000000       0.000000       0.000000       0.000000   \n",
       "max         1.000000       1.000000       1.000000       4.000000   \n",
       "\n",
       "        SMS_received  \n",
       "count  110527.000000  \n",
       "mean        0.321026  \n",
       "std         0.466873  \n",
       "min         0.000000  \n",
       "25%         0.000000  \n",
       "50%         0.000000  \n",
       "75%         1.000000  \n",
       "max         1.000000  "
      ]
     },
     "execution_count": 549,
     "metadata": {},
     "output_type": "execute_result"
    }
   ],
   "source": [
    "# summary statistics of the dataset\n",
    "df.describe()"
   ]
  },
  {
   "cell_type": "markdown",
   "metadata": {},
   "source": [
    ">__iv__\n",
    ">\n",
    "> **Age** has a **minumum** of -1, this is clearly a mistake and rows with age less than one should be handled. "
   ]
  },
  {
   "cell_type": "code",
   "execution_count": 550,
   "metadata": {
    "scrolled": true
   },
   "outputs": [
    {
     "data": {
      "text/plain": [
       "PatientId         False\n",
       "AppointmentID     False\n",
       "Gender            False\n",
       "ScheduledDay      False\n",
       "AppointmentDay    False\n",
       "Age               False\n",
       "Neighbourhood     False\n",
       "Scholarship       False\n",
       "Hipertension      False\n",
       "Diabetes          False\n",
       "Alcoholism        False\n",
       "Handcap           False\n",
       "SMS_received      False\n",
       "No-show           False\n",
       "dtype: bool"
      ]
     },
     "execution_count": 550,
     "metadata": {},
     "output_type": "execute_result"
    }
   ],
   "source": [
    "# checking for null values.\n",
    "df.isna().any()"
   ]
  },
  {
   "cell_type": "markdown",
   "metadata": {},
   "source": [
    ">__v__\n",
    ">\n",
    "> There are no null values in the dataset. \n"
   ]
  },
  {
   "cell_type": "markdown",
   "metadata": {},
   "source": [
    "> __/------------------------------------------/__\n",
    ">\n",
    "> The column that should not have any duplicates is the **AppointmentID** column, since an appointment can not take place twice.\n",
    ">\n",
    "> Do we have **any duplicates in the AppointmentID column?**"
   ]
  },
  {
   "cell_type": "code",
   "execution_count": 551,
   "metadata": {},
   "outputs": [
    {
     "data": {
      "text/plain": [
       "False"
      ]
     },
     "execution_count": 551,
     "metadata": {},
     "output_type": "execute_result"
    }
   ],
   "source": [
    "# checking for duplicated values in a unique identifier.\n",
    "df['AppointmentID'].duplicated().any()"
   ]
  },
  {
   "cell_type": "markdown",
   "metadata": {},
   "source": [
    ">__vi__\n",
    ">\n",
    ">There are __no duplicates in the AppointmentID column.__"
   ]
  },
  {
   "cell_type": "markdown",
   "metadata": {},
   "source": [
    "\n",
    "### Data Cleaning\n",
    "> __i.__\n",
    ">\n",
    ">**Column Names**. "
   ]
  },
  {
   "cell_type": "code",
   "execution_count": 552,
   "metadata": {
    "scrolled": true
   },
   "outputs": [
    {
     "data": {
      "text/html": [
       "<div>\n",
       "<style scoped>\n",
       "    .dataframe tbody tr th:only-of-type {\n",
       "        vertical-align: middle;\n",
       "    }\n",
       "\n",
       "    .dataframe tbody tr th {\n",
       "        vertical-align: top;\n",
       "    }\n",
       "\n",
       "    .dataframe thead th {\n",
       "        text-align: right;\n",
       "    }\n",
       "</style>\n",
       "<table border=\"1\" class=\"dataframe\">\n",
       "  <thead>\n",
       "    <tr style=\"text-align: right;\">\n",
       "      <th></th>\n",
       "      <th>patientid</th>\n",
       "      <th>appointmentid</th>\n",
       "      <th>gender</th>\n",
       "      <th>scheduledday</th>\n",
       "      <th>appointmentday</th>\n",
       "      <th>age</th>\n",
       "      <th>neighbourhood</th>\n",
       "      <th>scholarship</th>\n",
       "      <th>hipertension</th>\n",
       "      <th>diabetes</th>\n",
       "      <th>alcoholism</th>\n",
       "      <th>handcap</th>\n",
       "      <th>sms_received</th>\n",
       "      <th>no_show</th>\n",
       "    </tr>\n",
       "  </thead>\n",
       "  <tbody>\n",
       "    <tr>\n",
       "      <th>0</th>\n",
       "      <td>2.987250e+13</td>\n",
       "      <td>5642903</td>\n",
       "      <td>F</td>\n",
       "      <td>2016-04-29T18:38:08Z</td>\n",
       "      <td>2016-04-29T00:00:00Z</td>\n",
       "      <td>62</td>\n",
       "      <td>JARDIM DA PENHA</td>\n",
       "      <td>0</td>\n",
       "      <td>1</td>\n",
       "      <td>0</td>\n",
       "      <td>0</td>\n",
       "      <td>0</td>\n",
       "      <td>0</td>\n",
       "      <td>No</td>\n",
       "    </tr>\n",
       "    <tr>\n",
       "      <th>1</th>\n",
       "      <td>5.589978e+14</td>\n",
       "      <td>5642503</td>\n",
       "      <td>M</td>\n",
       "      <td>2016-04-29T16:08:27Z</td>\n",
       "      <td>2016-04-29T00:00:00Z</td>\n",
       "      <td>56</td>\n",
       "      <td>JARDIM DA PENHA</td>\n",
       "      <td>0</td>\n",
       "      <td>0</td>\n",
       "      <td>0</td>\n",
       "      <td>0</td>\n",
       "      <td>0</td>\n",
       "      <td>0</td>\n",
       "      <td>No</td>\n",
       "    </tr>\n",
       "  </tbody>\n",
       "</table>\n",
       "</div>"
      ],
      "text/plain": [
       "      patientid  appointmentid gender          scheduledday  \\\n",
       "0  2.987250e+13        5642903      F  2016-04-29T18:38:08Z   \n",
       "1  5.589978e+14        5642503      M  2016-04-29T16:08:27Z   \n",
       "\n",
       "         appointmentday  age    neighbourhood  scholarship  hipertension  \\\n",
       "0  2016-04-29T00:00:00Z   62  JARDIM DA PENHA            0             1   \n",
       "1  2016-04-29T00:00:00Z   56  JARDIM DA PENHA            0             0   \n",
       "\n",
       "   diabetes  alcoholism  handcap  sms_received no_show  \n",
       "0         0           0        0             0      No  \n",
       "1         0           0        0             0      No  "
      ]
     },
     "execution_count": 552,
     "metadata": {},
     "output_type": "execute_result"
    }
   ],
   "source": [
    "# Convert column names to lower case and rename \"No-show\"\n",
    "df = df.rename(columns=lambda x:x.lower().replace('-','_'))\n",
    "\n",
    "\n",
    "# check for column names\n",
    "df.head(2)"
   ]
  },
  {
   "cell_type": "markdown",
   "metadata": {},
   "source": [
    ">__ii. Changing datatypes of patientid and appointmentid__"
   ]
  },
  {
   "cell_type": "code",
   "execution_count": 553,
   "metadata": {
    "scrolled": true
   },
   "outputs": [
    {
     "data": {
      "text/plain": [
       "patientid         object\n",
       "appointmentid     object\n",
       "gender            object\n",
       "scheduledday      object\n",
       "appointmentday    object\n",
       "age                int64\n",
       "neighbourhood     object\n",
       "scholarship        int64\n",
       "hipertension       int64\n",
       "diabetes           int64\n",
       "alcoholism         int64\n",
       "handcap            int64\n",
       "sms_received       int64\n",
       "no_show           object\n",
       "dtype: object"
      ]
     },
     "execution_count": 553,
     "metadata": {},
     "output_type": "execute_result"
    }
   ],
   "source": [
    "# changing datatype of columns \n",
    "df[['patientid','appointmentid']] = df[['patientid','appointmentid']].astype(str)\n",
    "\n",
    "\n",
    "# check to confirm datatypes of changed columns.\n",
    "df.dtypes"
   ]
  },
  {
   "cell_type": "markdown",
   "metadata": {},
   "source": [
    ">__iii. Change schedule and appointment day to datetime data types__\n",
    ">\n",
    ">removing columns with appointmentday earlier than schedule day\n",
    ">\n",
    "> Creating column with lag between schedule and appointment day"
   ]
  },
  {
   "cell_type": "code",
   "execution_count": 554,
   "metadata": {},
   "outputs": [
    {
     "data": {
      "text/plain": [
       "scheduledday      datetime64[ns, UTC]\n",
       "appointmentday    datetime64[ns, UTC]\n",
       "dtype: object"
      ]
     },
     "execution_count": 554,
     "metadata": {},
     "output_type": "execute_result"
    }
   ],
   "source": [
    "# change the data types to objects. \n",
    "columns = ['scheduledday','appointmentday']\n",
    "\n",
    "\n",
    "\n",
    "for col in columns:\n",
    "    df[col] = pd.to_datetime(df[col])\n",
    "\n",
    "    \n",
    "    \n",
    "# check for confirmation of the data types.\n",
    "df[['scheduledday','appointmentday']].dtypes"
   ]
  },
  {
   "cell_type": "code",
   "execution_count": 555,
   "metadata": {},
   "outputs": [
    {
     "data": {
      "text/html": [
       "<div>\n",
       "<style scoped>\n",
       "    .dataframe tbody tr th:only-of-type {\n",
       "        vertical-align: middle;\n",
       "    }\n",
       "\n",
       "    .dataframe tbody tr th {\n",
       "        vertical-align: top;\n",
       "    }\n",
       "\n",
       "    .dataframe thead th {\n",
       "        text-align: right;\n",
       "    }\n",
       "</style>\n",
       "<table border=\"1\" class=\"dataframe\">\n",
       "  <thead>\n",
       "    <tr style=\"text-align: right;\">\n",
       "      <th></th>\n",
       "      <th>patientid</th>\n",
       "      <th>appointmentid</th>\n",
       "      <th>gender</th>\n",
       "      <th>scheduledday</th>\n",
       "      <th>appointmentday</th>\n",
       "      <th>age</th>\n",
       "      <th>neighbourhood</th>\n",
       "      <th>scholarship</th>\n",
       "      <th>hipertension</th>\n",
       "      <th>diabetes</th>\n",
       "      <th>alcoholism</th>\n",
       "      <th>handcap</th>\n",
       "      <th>sms_received</th>\n",
       "      <th>no_show</th>\n",
       "    </tr>\n",
       "  </thead>\n",
       "  <tbody>\n",
       "    <tr>\n",
       "      <th>0</th>\n",
       "      <td>29872499824296.0</td>\n",
       "      <td>5642903</td>\n",
       "      <td>F</td>\n",
       "      <td>2016-04-29 18:38:08+00:00</td>\n",
       "      <td>2016-04-29 00:00:00+00:00</td>\n",
       "      <td>62</td>\n",
       "      <td>JARDIM DA PENHA</td>\n",
       "      <td>0</td>\n",
       "      <td>1</td>\n",
       "      <td>0</td>\n",
       "      <td>0</td>\n",
       "      <td>0</td>\n",
       "      <td>0</td>\n",
       "      <td>No</td>\n",
       "    </tr>\n",
       "    <tr>\n",
       "      <th>1</th>\n",
       "      <td>558997776694438.0</td>\n",
       "      <td>5642503</td>\n",
       "      <td>M</td>\n",
       "      <td>2016-04-29 16:08:27+00:00</td>\n",
       "      <td>2016-04-29 00:00:00+00:00</td>\n",
       "      <td>56</td>\n",
       "      <td>JARDIM DA PENHA</td>\n",
       "      <td>0</td>\n",
       "      <td>0</td>\n",
       "      <td>0</td>\n",
       "      <td>0</td>\n",
       "      <td>0</td>\n",
       "      <td>0</td>\n",
       "      <td>No</td>\n",
       "    </tr>\n",
       "    <tr>\n",
       "      <th>2</th>\n",
       "      <td>4262962299951.0</td>\n",
       "      <td>5642549</td>\n",
       "      <td>F</td>\n",
       "      <td>2016-04-29 16:19:04+00:00</td>\n",
       "      <td>2016-04-29 00:00:00+00:00</td>\n",
       "      <td>62</td>\n",
       "      <td>MATA DA PRAIA</td>\n",
       "      <td>0</td>\n",
       "      <td>0</td>\n",
       "      <td>0</td>\n",
       "      <td>0</td>\n",
       "      <td>0</td>\n",
       "      <td>0</td>\n",
       "      <td>No</td>\n",
       "    </tr>\n",
       "    <tr>\n",
       "      <th>3</th>\n",
       "      <td>867951213174.0</td>\n",
       "      <td>5642828</td>\n",
       "      <td>F</td>\n",
       "      <td>2016-04-29 17:29:31+00:00</td>\n",
       "      <td>2016-04-29 00:00:00+00:00</td>\n",
       "      <td>8</td>\n",
       "      <td>PONTAL DE CAMBURI</td>\n",
       "      <td>0</td>\n",
       "      <td>0</td>\n",
       "      <td>0</td>\n",
       "      <td>0</td>\n",
       "      <td>0</td>\n",
       "      <td>0</td>\n",
       "      <td>No</td>\n",
       "    </tr>\n",
       "    <tr>\n",
       "      <th>4</th>\n",
       "      <td>8841186448183.0</td>\n",
       "      <td>5642494</td>\n",
       "      <td>F</td>\n",
       "      <td>2016-04-29 16:07:23+00:00</td>\n",
       "      <td>2016-04-29 00:00:00+00:00</td>\n",
       "      <td>56</td>\n",
       "      <td>JARDIM DA PENHA</td>\n",
       "      <td>0</td>\n",
       "      <td>1</td>\n",
       "      <td>1</td>\n",
       "      <td>0</td>\n",
       "      <td>0</td>\n",
       "      <td>0</td>\n",
       "      <td>No</td>\n",
       "    </tr>\n",
       "  </tbody>\n",
       "</table>\n",
       "</div>"
      ],
      "text/plain": [
       "           patientid appointmentid gender              scheduledday  \\\n",
       "0   29872499824296.0       5642903      F 2016-04-29 18:38:08+00:00   \n",
       "1  558997776694438.0       5642503      M 2016-04-29 16:08:27+00:00   \n",
       "2    4262962299951.0       5642549      F 2016-04-29 16:19:04+00:00   \n",
       "3     867951213174.0       5642828      F 2016-04-29 17:29:31+00:00   \n",
       "4    8841186448183.0       5642494      F 2016-04-29 16:07:23+00:00   \n",
       "\n",
       "             appointmentday  age      neighbourhood  scholarship  \\\n",
       "0 2016-04-29 00:00:00+00:00   62    JARDIM DA PENHA            0   \n",
       "1 2016-04-29 00:00:00+00:00   56    JARDIM DA PENHA            0   \n",
       "2 2016-04-29 00:00:00+00:00   62      MATA DA PRAIA            0   \n",
       "3 2016-04-29 00:00:00+00:00    8  PONTAL DE CAMBURI            0   \n",
       "4 2016-04-29 00:00:00+00:00   56    JARDIM DA PENHA            0   \n",
       "\n",
       "   hipertension  diabetes  alcoholism  handcap  sms_received no_show  \n",
       "0             1         0           0        0             0      No  \n",
       "1             0         0           0        0             0      No  \n",
       "2             0         0           0        0             0      No  \n",
       "3             0         0           0        0             0      No  \n",
       "4             1         1           0        0             0      No  "
      ]
     },
     "execution_count": 555,
     "metadata": {},
     "output_type": "execute_result"
    }
   ],
   "source": [
    "# checking for erroneous appointments, where appointment day is earlier than scheduled day\n",
    "erroneous = df[df['appointmentday']<df['scheduledday']]\n",
    "\n",
    "erroneous.head()"
   ]
  },
  {
   "cell_type": "code",
   "execution_count": 556,
   "metadata": {},
   "outputs": [],
   "source": [
    "# dropping erroneous rows\n",
    "df.drop(erroneous.index, inplace=True)"
   ]
  },
  {
   "cell_type": "code",
   "execution_count": 557,
   "metadata": {
    "scrolled": true
   },
   "outputs": [
    {
     "data": {
      "text/html": [
       "<div>\n",
       "<style scoped>\n",
       "    .dataframe tbody tr th:only-of-type {\n",
       "        vertical-align: middle;\n",
       "    }\n",
       "\n",
       "    .dataframe tbody tr th {\n",
       "        vertical-align: top;\n",
       "    }\n",
       "\n",
       "    .dataframe thead th {\n",
       "        text-align: right;\n",
       "    }\n",
       "</style>\n",
       "<table border=\"1\" class=\"dataframe\">\n",
       "  <thead>\n",
       "    <tr style=\"text-align: right;\">\n",
       "      <th></th>\n",
       "      <th>patientid</th>\n",
       "      <th>appointmentid</th>\n",
       "      <th>gender</th>\n",
       "      <th>scheduledday</th>\n",
       "      <th>appointmentday</th>\n",
       "      <th>age</th>\n",
       "      <th>neighbourhood</th>\n",
       "      <th>scholarship</th>\n",
       "      <th>hipertension</th>\n",
       "      <th>diabetes</th>\n",
       "      <th>alcoholism</th>\n",
       "      <th>handcap</th>\n",
       "      <th>sms_received</th>\n",
       "      <th>no_show</th>\n",
       "    </tr>\n",
       "  </thead>\n",
       "  <tbody>\n",
       "  </tbody>\n",
       "</table>\n",
       "</div>"
      ],
      "text/plain": [
       "Empty DataFrame\n",
       "Columns: [patientid, appointmentid, gender, scheduledday, appointmentday, age, neighbourhood, scholarship, hipertension, diabetes, alcoholism, handcap, sms_received, no_show]\n",
       "Index: []"
      ]
     },
     "execution_count": 557,
     "metadata": {},
     "output_type": "execute_result"
    }
   ],
   "source": [
    "# check for erroneous rows\n",
    "df[df['appointmentday']<df['scheduledday']]"
   ]
  },
  {
   "cell_type": "markdown",
   "metadata": {},
   "source": [
    "> There no more erroneous rows."
   ]
  },
  {
   "cell_type": "code",
   "execution_count": 558,
   "metadata": {},
   "outputs": [
    {
     "data": {
      "text/plain": [
       "5    1 days 15:23:09\n",
       "6    1 days 08:54:48\n",
       "7    1 days 08:20:02\n",
       "9    1 days 11:11:35\n",
       "10   1 days 09:01:49\n",
       "Name: lag, dtype: timedelta64[ns]"
      ]
     },
     "execution_count": 558,
     "metadata": {},
     "output_type": "execute_result"
    }
   ],
   "source": [
    "#  the lag between the appointment and schedule day.\n",
    "df['lag'] = df['appointmentday']-df['scheduledday']\n",
    "\n",
    "\n",
    "\n",
    "# check for the column \n",
    "df['lag'].head()"
   ]
  },
  {
   "cell_type": "markdown",
   "metadata": {},
   "source": [
    "> We would only take the number of days of the **lag** column, so as to make it easier to work with"
   ]
  },
  {
   "cell_type": "code",
   "execution_count": 559,
   "metadata": {},
   "outputs": [],
   "source": [
    "# selecting just the days from the dataset\n",
    "df['lag'] = df['lag'].astype('timedelta64[D]')\n",
    "\n",
    "\n",
    "\n",
    "# converting the column to int\n",
    "df['lag'] = df['lag'].astype(int)"
   ]
  },
  {
   "cell_type": "code",
   "execution_count": 560,
   "metadata": {},
   "outputs": [
    {
     "data": {
      "text/plain": [
       "dtype('int32')"
      ]
     },
     "execution_count": 560,
     "metadata": {},
     "output_type": "execute_result"
    }
   ],
   "source": [
    "# checking to confirm the datatype of the lag column \n",
    "df['lag'].dtype"
   ]
  },
  {
   "cell_type": "markdown",
   "metadata": {},
   "source": [
    "> **iv. Handle rows with age less than 0**"
   ]
  },
  {
   "cell_type": "code",
   "execution_count": 561,
   "metadata": {},
   "outputs": [
    {
     "data": {
      "text/html": [
       "<div>\n",
       "<style scoped>\n",
       "    .dataframe tbody tr th:only-of-type {\n",
       "        vertical-align: middle;\n",
       "    }\n",
       "\n",
       "    .dataframe tbody tr th {\n",
       "        vertical-align: top;\n",
       "    }\n",
       "\n",
       "    .dataframe thead th {\n",
       "        text-align: right;\n",
       "    }\n",
       "</style>\n",
       "<table border=\"1\" class=\"dataframe\">\n",
       "  <thead>\n",
       "    <tr style=\"text-align: right;\">\n",
       "      <th></th>\n",
       "      <th>patientid</th>\n",
       "      <th>appointmentid</th>\n",
       "      <th>gender</th>\n",
       "      <th>scheduledday</th>\n",
       "      <th>appointmentday</th>\n",
       "      <th>age</th>\n",
       "      <th>neighbourhood</th>\n",
       "      <th>scholarship</th>\n",
       "      <th>hipertension</th>\n",
       "      <th>diabetes</th>\n",
       "      <th>alcoholism</th>\n",
       "      <th>handcap</th>\n",
       "      <th>sms_received</th>\n",
       "      <th>no_show</th>\n",
       "      <th>lag</th>\n",
       "    </tr>\n",
       "  </thead>\n",
       "  <tbody>\n",
       "  </tbody>\n",
       "</table>\n",
       "</div>"
      ],
      "text/plain": [
       "Empty DataFrame\n",
       "Columns: [patientid, appointmentid, gender, scheduledday, appointmentday, age, neighbourhood, scholarship, hipertension, diabetes, alcoholism, handcap, sms_received, no_show, lag]\n",
       "Index: []"
      ]
     },
     "execution_count": 561,
     "metadata": {},
     "output_type": "execute_result"
    }
   ],
   "source": [
    "# check for number of columns with age less than zero.\n",
    "df[df['age']<0]"
   ]
  },
  {
   "cell_type": "code",
   "execution_count": 562,
   "metadata": {},
   "outputs": [
    {
     "data": {
      "text/html": [
       "<div>\n",
       "<style scoped>\n",
       "    .dataframe tbody tr th:only-of-type {\n",
       "        vertical-align: middle;\n",
       "    }\n",
       "\n",
       "    .dataframe tbody tr th {\n",
       "        vertical-align: top;\n",
       "    }\n",
       "\n",
       "    .dataframe thead th {\n",
       "        text-align: right;\n",
       "    }\n",
       "</style>\n",
       "<table border=\"1\" class=\"dataframe\">\n",
       "  <thead>\n",
       "    <tr style=\"text-align: right;\">\n",
       "      <th></th>\n",
       "      <th>patientid</th>\n",
       "      <th>appointmentid</th>\n",
       "      <th>gender</th>\n",
       "      <th>scheduledday</th>\n",
       "      <th>appointmentday</th>\n",
       "      <th>age</th>\n",
       "      <th>neighbourhood</th>\n",
       "      <th>scholarship</th>\n",
       "      <th>hipertension</th>\n",
       "      <th>diabetes</th>\n",
       "      <th>alcoholism</th>\n",
       "      <th>handcap</th>\n",
       "      <th>sms_received</th>\n",
       "      <th>no_show</th>\n",
       "      <th>lag</th>\n",
       "    </tr>\n",
       "  </thead>\n",
       "  <tbody>\n",
       "  </tbody>\n",
       "</table>\n",
       "</div>"
      ],
      "text/plain": [
       "Empty DataFrame\n",
       "Columns: [patientid, appointmentid, gender, scheduledday, appointmentday, age, neighbourhood, scholarship, hipertension, diabetes, alcoholism, handcap, sms_received, no_show, lag]\n",
       "Index: []"
      ]
     },
     "execution_count": 562,
     "metadata": {},
     "output_type": "execute_result"
    }
   ],
   "source": [
    "# there is only one column with age less than zero so we can drop the column. \n",
    "df.drop(index=df[df['age']<0].index, inplace=True, axis=0)\n",
    "\n",
    "# check if the column has been dropped \n",
    "df[df['age']<0]\n",
    "\n",
    "# column has been dropped succesfully"
   ]
  },
  {
   "cell_type": "markdown",
   "metadata": {},
   "source": [
    "<a id='eda'></a>\n",
    "## Exploratory Data Analysis"
   ]
  },
  {
   "cell_type": "markdown",
   "metadata": {},
   "source": [
    "<a id='question1'></a>\n",
    "\n",
    "### 1.  Which gender is more likely to miss an appoinment?"
   ]
  },
  {
   "cell_type": "code",
   "execution_count": 563,
   "metadata": {},
   "outputs": [
    {
     "data": {
      "image/png": "[encoded data removed]",
      "text/plain": [
       "<Figure size 432x288 with 1 Axes>"
      ]
     },
     "metadata": {
      "needs_background": "light"
     },
     "output_type": "display_data"
    }
   ],
   "source": [
    "sns.countplot(x='no_show', data=df)\n",
    "plt.title('What Proportion of Patients missed their appointments')\n",
    "plt.xlabel('Missed Appointments');"
   ]
  },
  {
   "cell_type": "markdown",
   "metadata": {},
   "source": [
    "> From the bar plot about **20%** of patients missed their appointments"
   ]
  },
  {
   "cell_type": "code",
   "execution_count": 564,
   "metadata": {},
   "outputs": [
    {
     "data": {
      "text/plain": [
       "F    48070\n",
       "M    23889\n",
       "Name: gender, dtype: int64"
      ]
     },
     "execution_count": 564,
     "metadata": {},
     "output_type": "execute_result"
    }
   ],
   "source": [
    "# population distribution of male and female\n",
    "gender = df['gender']\n",
    "\n",
    "gender.value_counts()"
   ]
  },
  {
   "cell_type": "code",
   "execution_count": 565,
   "metadata": {
    "scrolled": true
   },
   "outputs": [
    {
     "data": {
      "image/png": "[encoded data removed]",
      "text/plain": [
       "<Figure size 504x360 with 1 Axes>"
      ]
     },
     "metadata": {},
     "output_type": "display_data"
    }
   ],
   "source": [
    "# visualizing the gender distribution.\n",
    "plt.style.use('ggplot')\n",
    "plt.figure(figsize=(7,5))\n",
    "\n",
    "sns.countplot(x='gender', data=df,);\n",
    "plt.title('Gender distribution');"
   ]
  },
  {
   "cell_type": "code",
   "execution_count": 566,
   "metadata": {
    "scrolled": true
   },
   "outputs": [
    {
     "name": "stdout",
     "output_type": "stream",
     "text": [
      "20522 People missed their appointments\n"
     ]
    },
    {
     "data": {
      "text/plain": [
       "F    13674\n",
       "M     6848\n",
       "Name: gender, dtype: int64"
      ]
     },
     "execution_count": 566,
     "metadata": {},
     "output_type": "execute_result"
    }
   ],
   "source": [
    "# Subsetting the gender column of the number of people who missed their appointments \n",
    "missed = df[df['no_show']=='Yes']['gender']\n",
    "\n",
    "# how many people missed their appointments\n",
    "print(f'{missed.shape[0]} People missed their appointments')\n",
    "\n",
    "# how many females or males missed their appointments\n",
    "missed.value_counts()"
   ]
  },
  {
   "cell_type": "markdown",
   "metadata": {},
   "source": [
    "> Before making near accurate assumptions, we have to make up for the disproportionate composition of Males and Females in the dataset. So the **percentage compositions** would be used for analysis."
   ]
  },
  {
   "cell_type": "code",
   "execution_count": 567,
   "metadata": {},
   "outputs": [
    {
     "name": "stdout",
     "output_type": "stream",
     "text": [
      "males : 28.66591318179915 \n",
      "females : 28.44601622633659\n"
     ]
    }
   ],
   "source": [
    "# \"missed\" and \"gender\" are already defined in the cells above\n",
    "\n",
    "# what percentage of males missed their appointments?\n",
    "male_percent = (missed.value_counts()[1]) /(gender.value_counts()[1])*100\n",
    "\n",
    "# what percentage of females missed their appointments\n",
    "female_percent = (missed.value_counts()[0]/gender.value_counts()[0])*100\n",
    "\n",
    "\n",
    "\n",
    "print(f'males : {male_percent} \\nfemales : {female_percent}')"
   ]
  },
  {
   "cell_type": "code",
   "execution_count": 568,
   "metadata": {
    "scrolled": true
   },
   "outputs": [
    {
     "data": {
      "image/png": "[encoded data removed]",
      "text/plain": [
       "<Figure size 504x360 with 1 Axes>"
      ]
     },
     "metadata": {},
     "output_type": "display_data"
    }
   ],
   "source": [
    "# visualizing the percentage\n",
    "plt.style.use(\"bmh\")\n",
    "\n",
    "plt.figure(figsize=(7,5))\n",
    "\n",
    "sns.barplot(x=[\"male\",\"female\"], y=[male_percent,female_percent]);\n",
    "\n",
    "\n",
    "\n",
    "# add title and labels\n",
    "plt.title('Who is more likely to miss an appointment?');\n",
    "plt.ylabel('Percentage of No-shows');"
   ]
  },
  {
   "cell_type": "markdown",
   "metadata": {},
   "source": [
    "> **Males and Females almost equally missed their appointments**\n",
    "\n",
    "> **28.7% of males** missed their appointments\n",
    "\n",
    "> **28.4% of females** missed their appointments"
   ]
  },
  {
   "cell_type": "markdown",
   "metadata": {},
   "source": [
    "<a id='question2'></a>\n",
    "\n",
    "### 2. What is the age group of those who missed medical appointment?"
   ]
  },
  {
   "cell_type": "code",
   "execution_count": 569,
   "metadata": {
    "scrolled": false
   },
   "outputs": [
    {
     "name": "stdout",
     "output_type": "stream",
     "text": [
      "(71959, 15)\n"
     ]
    },
    {
     "data": {
      "image/png": "[encoded data removed]",
      "text/plain": [
       "<Figure size 432x288 with 1 Axes>"
      ]
     },
     "metadata": {},
     "output_type": "display_data"
    }
   ],
   "source": [
    "# A distribution of the age group of the dataset.\n",
    "df['age'].hist()\n",
    "print(df.shape)\n",
    "plt.title('Age Distribution of our dataset')\n",
    "plt.xlabel('Age');"
   ]
  },
  {
   "cell_type": "code",
   "execution_count": 570,
   "metadata": {},
   "outputs": [],
   "source": [
    "# create a dataframe of patients who didn't have no-shows\n",
    "df_showedUp = df[df['no_show']=='No']"
   ]
  },
  {
   "cell_type": "code",
   "execution_count": 571,
   "metadata": {},
   "outputs": [],
   "source": [
    "# create a dataframe of patients who had no-shows\n",
    "df_noShow = df[df['no_show']=='Yes']"
   ]
  },
  {
   "cell_type": "code",
   "execution_count": 572,
   "metadata": {
    "scrolled": true
   },
   "outputs": [
    {
     "data": {
      "text/plain": [
       "count    51437.000000\n",
       "mean        39.965706\n",
       "std         23.140047\n",
       "min          0.000000\n",
       "25%         21.000000\n",
       "50%         41.000000\n",
       "75%         58.000000\n",
       "max        115.000000\n",
       "Name: age, dtype: float64"
      ]
     },
     "execution_count": 572,
     "metadata": {},
     "output_type": "execute_result"
    }
   ],
   "source": [
    "df_showedUp['age'].describe()"
   ]
  },
  {
   "cell_type": "code",
   "execution_count": 573,
   "metadata": {
    "scrolled": true
   },
   "outputs": [
    {
     "data": {
      "text/plain": [
       "count    20522.000000\n",
       "mean        34.835299\n",
       "std         21.954582\n",
       "min          0.000000\n",
       "25%         17.000000\n",
       "50%         33.000000\n",
       "75%         51.000000\n",
       "max        115.000000\n",
       "Name: age, dtype: float64"
      ]
     },
     "execution_count": 573,
     "metadata": {},
     "output_type": "execute_result"
    }
   ],
   "source": [
    "df_noShow['age'].describe()"
   ]
  },
  {
   "cell_type": "markdown",
   "metadata": {},
   "source": [
    "> Those who showed up were slightly older than those who didn't.\n",
    "\n",
    "> Those who **showed up** had a **mean age** of **39.97 years**\n",
    "\n",
    ">Those who **didn't show up** had a **mean age** of **34.84 years**"
   ]
  },
  {
   "cell_type": "code",
   "execution_count": 574,
   "metadata": {},
   "outputs": [
    {
     "data": {
      "image/png": "[encoded data removed]",
      "text/plain": [
       "<Figure size 432x288 with 2 Axes>"
      ]
     },
     "metadata": {},
     "output_type": "display_data"
    }
   ],
   "source": [
    "# visualizing the age distribution of people who showed up to their appointments and those who didn't\n",
    "fig, ax = plt.subplots(1,2)\n",
    "\n",
    "\n",
    "# Showed Up\n",
    "ax[0].hist(df_showedUp['age'],color='orange');\n",
    "\n",
    "ax[0].set_title('SHOWED UP')\n",
    "\n",
    "ax[0].set_xlabel('Age')\n",
    "\n",
    "\n",
    "\n",
    "# No-Show\n",
    "ax[1].hist(df_noShow['age'], color='purple');\n",
    "\n",
    "ax[1].set_title('MISSED APPOINTMENT')\n",
    "\n",
    "ax[1].set_xlabel('Age');"
   ]
  },
  {
   "cell_type": "markdown",
   "metadata": {},
   "source": [
    "<a id='question3'></a>\n",
    "### 3. Is being on the Scholarship a factor affecting showing up for appointments?"
   ]
  },
  {
   "cell_type": "code",
   "execution_count": 575,
   "metadata": {},
   "outputs": [
    {
     "data": {
      "image/png": "[encoded data removed]",
      "text/plain": [
       "<Figure size 432x288 with 1 Axes>"
      ]
     },
     "metadata": {},
     "output_type": "display_data"
    }
   ],
   "source": [
    "# What proportion of patients are on scholarship\n",
    "df['scholarship'].hist(color='red')\n",
    "plt.title('Not on Scholarship ------- On Scholarship');"
   ]
  },
  {
   "cell_type": "markdown",
   "metadata": {},
   "source": [
    "> From the Histogram above, most of the patients weren't on scholarships\n",
    "\n",
    "> **Those on Scholarships, were they more likely to show up for appointments?** Let us find out below"
   ]
  },
  {
   "cell_type": "code",
   "execution_count": 576,
   "metadata": {},
   "outputs": [
    {
     "name": "stdout",
     "output_type": "stream",
     "text": [
      "(6671, 15)\n"
     ]
    },
    {
     "data": {
      "image/png": "[encoded data removed]",
      "text/plain": [
       "<Figure size 432x288 with 1 Axes>"
      ]
     },
     "metadata": {},
     "output_type": "display_data"
    }
   ],
   "source": [
    "# people on scholarships\n",
    "df_scholarship=df[df['scholarship']==1]\n",
    "\n",
    "print(df_scholarship.shape)\n",
    "\n",
    "\n",
    "# visualising their no-shows.\n",
    "sns.countplot(y='no_show', data=df_scholarship);\n",
    "plt.title('People on Scholarships')\n",
    "plt.ylabel('Missed_Appointment');"
   ]
  },
  {
   "cell_type": "code",
   "execution_count": 577,
   "metadata": {
    "scrolled": false
   },
   "outputs": [
    {
     "name": "stdout",
     "output_type": "stream",
     "text": [
      "(65288, 15)\n"
     ]
    },
    {
     "data": {
      "image/png": "[encoded data removed]",
      "text/plain": [
       "<Figure size 432x288 with 1 Axes>"
      ]
     },
     "metadata": {},
     "output_type": "display_data"
    }
   ],
   "source": [
    "# People who are not on the Scholarship\n",
    "df_noScholarship = df[df['scholarship']==0]\n",
    "print(df_noScholarship.shape)\n",
    "\n",
    "# visualising their no-shows.\n",
    "sns.countplot(y='no_show', data=df_noScholarship);\n",
    "\n",
    "# adding title and labels\n",
    "plt.title('People who are not on Scholarships')\n",
    "plt.ylabel('Missed_Appointment');"
   ]
  },
  {
   "cell_type": "markdown",
   "metadata": {},
   "source": [
    "> From the 2 **countplots** above, it's evident that, **patients who were on scholarships were more likely to miss their appointments that people who were not on scholarships**\n"
   ]
  },
  {
   "cell_type": "markdown",
   "metadata": {},
   "source": [
    "<a id='question4'></a>\n",
    "### 4. Did receiving an SMS lead to showing up for Appointments?"
   ]
  },
  {
   "cell_type": "code",
   "execution_count": 578,
   "metadata": {},
   "outputs": [
    {
     "data": {
      "image/png": "[encoded data removed]",
      "text/plain": [
       "<Figure size 432x288 with 1 Axes>"
      ]
     },
     "metadata": {},
     "output_type": "display_data"
    }
   ],
   "source": [
    "# visualising the SMS receipt of those of those who missed appointments\n",
    "df_noShow[['sms_received']].hist()\n",
    "\n",
    "# adding title and labels\n",
    "plt.title('SMS Receipt of those who Missed Appointments')\n",
    "plt.xlabel('SMS Received');"
   ]
  },
  {
   "cell_type": "code",
   "execution_count": 579,
   "metadata": {
    "scrolled": true
   },
   "outputs": [
    {
     "data": {
      "image/png": "[encoded data removed]",
      "text/plain": [
       "<Figure size 432x288 with 1 Axes>"
      ]
     },
     "metadata": {},
     "output_type": "display_data"
    }
   ],
   "source": [
    "# visualising the SMS receipt of those of those who Showed UP to Appointments\n",
    "df_showedUp[['sms_received']].hist()\n",
    "\n",
    "# adding title and labels\n",
    "plt.title('SMS Receipt of those who Showed Up')\n",
    "plt.xlabel('SMS Received');"
   ]
  },
  {
   "cell_type": "markdown",
   "metadata": {},
   "source": [
    "> **Those who missed appointments got less SMS than those who showed up to their appointments**"
   ]
  },
  {
   "cell_type": "markdown",
   "metadata": {},
   "source": [
    "<a id='question5'></a>\n",
    "### 5. What is the time difference between the Schedule and Appointment Days of People who showed up and those that missed that appointments?"
   ]
  },
  {
   "cell_type": "code",
   "execution_count": 580,
   "metadata": {
    "scrolled": true
   },
   "outputs": [
    {
     "data": {
      "text/plain": [
       "count    51437.000000\n",
       "mean        14.013142\n",
       "std         16.404411\n",
       "min          0.000000\n",
       "25%          3.000000\n",
       "50%          7.000000\n",
       "75%         20.000000\n",
       "max        178.000000\n",
       "Name: lag, dtype: float64"
      ]
     },
     "execution_count": 580,
     "metadata": {},
     "output_type": "execute_result"
    }
   ],
   "source": [
    "#  lag in people who showedup\n",
    "df_showedUp['lag'].describe()"
   ]
  },
  {
   "cell_type": "markdown",
   "metadata": {},
   "source": [
    "> **Mean Lag Days** for those who showed up for their appointmets is 14 days"
   ]
  },
  {
   "cell_type": "code",
   "execution_count": 581,
   "metadata": {},
   "outputs": [
    {
     "data": {
      "image/png": "[encoded data removed]",
      "text/plain": [
       "<Figure size 432x288 with 1 Axes>"
      ]
     },
     "metadata": {},
     "output_type": "display_data"
    }
   ],
   "source": [
    "# Distribution of the  lag in people who showed up\n",
    "df_showedUp['lag'].hist(color='teal')\n",
    "\n",
    "# adding titles and labels\n",
    "plt.title('Lag Distribution of Those Who Showed Up')\n",
    "plt.xlabel('Lag(in Days)');"
   ]
  },
  {
   "cell_type": "code",
   "execution_count": 582,
   "metadata": {
    "scrolled": true
   },
   "outputs": [
    {
     "data": {
      "text/plain": [
       "count    20522.000000\n",
       "mean        16.218254\n",
       "std         16.613713\n",
       "min          0.000000\n",
       "25%          4.000000\n",
       "50%         12.000000\n",
       "75%         24.000000\n",
       "max        178.000000\n",
       "Name: lag, dtype: float64"
      ]
     },
     "execution_count": 582,
     "metadata": {},
     "output_type": "execute_result"
    }
   ],
   "source": [
    "# Summary of the lag of those who Missed Their Appointments\n",
    "df_noShow['lag'].describe()"
   ]
  },
  {
   "cell_type": "markdown",
   "metadata": {},
   "source": [
    "> **Mean Lag Day** for those who didn't show up is 16 days."
   ]
  },
  {
   "cell_type": "code",
   "execution_count": 583,
   "metadata": {
    "scrolled": true
   },
   "outputs": [
    {
     "data": {
      "image/png": "[encoded data removed]",
      "text/plain": [
       "<Figure size 432x288 with 1 Axes>"
      ]
     },
     "metadata": {},
     "output_type": "display_data"
    }
   ],
   "source": [
    "# Distribution of the  lag in people who Missed their appointments\n",
    "df_noShow['lag'].hist(color='brown')\n",
    "\n",
    "#  adding titles and labels\n",
    "plt.title('Lag Distribution of Those Who Missed Their Appointments');\n",
    "plt.xlabel('Lag (in Days)');"
   ]
  },
  {
   "cell_type": "markdown",
   "metadata": {},
   "source": [
    "#### LAG DIFFERENCE \n",
    "\n",
    "> Even though the maximum lag for both those who showed up and those who didn't are the same, the mean and the standard deviation differed and this is represented in the histograms.\n",
    "\n",
    "> **Those who Missed their appointments had more lag days than those who didn't miss their appointments.** \n",
    ">\n",
    "> Mean lag days for those who missed is **16 days**\n",
    ">\n",
    ">Mean lag days for those who showed up is **14 days**\n",
    "\n",
    "> There seems to be a correlation, the longer the lag days. the more likely a patient wouldn't keep to their appointment\n",
    "\n",
    "#### To Further Explore This Assertion:\n",
    "> The **no-show** column of a copy of our dataset would be converted to integers\n",
    ">\n",
    "> **Yes** would become **1**, **No** would become **0**\n",
    "\n",
    ">The **Correlation Score** would be calculated to confirm the magnitude of the assertion that there is a correlation between the lag and the "
   ]
  },
  {
   "cell_type": "code",
   "execution_count": 584,
   "metadata": {
    "scrolled": true
   },
   "outputs": [],
   "source": [
    "# make a copy of our dataframe \n",
    "df_corr = df.copy()\n",
    "\n",
    "#  encoding for yes and no\n",
    "df_corr['no_show'] = df_corr['no_show'].replace('Yes', 1)\n",
    "df_corr['no_show'] = df_corr['no_show'].replace('No', 0)"
   ]
  },
  {
   "cell_type": "code",
   "execution_count": 585,
   "metadata": {
    "scrolled": false
   },
   "outputs": [
    {
     "data": {
      "text/plain": [
       "5         0\n",
       "6         1\n",
       "7         1\n",
       "9         0\n",
       "10        0\n",
       "         ..\n",
       "110522    0\n",
       "110523    0\n",
       "110524    0\n",
       "110525    0\n",
       "110526    0\n",
       "Name: no_show, Length: 71959, dtype: int32"
      ]
     },
     "execution_count": 585,
     "metadata": {},
     "output_type": "execute_result"
    }
   ],
   "source": [
    "# changing the datatype to int\n",
    "df_corr['no_show'].astype(int)"
   ]
  },
  {
   "cell_type": "code",
   "execution_count": 586,
   "metadata": {
    "scrolled": true
   },
   "outputs": [
    {
     "data": {
      "text/html": [
       "<div>\n",
       "<style scoped>\n",
       "    .dataframe tbody tr th:only-of-type {\n",
       "        vertical-align: middle;\n",
       "    }\n",
       "\n",
       "    .dataframe tbody tr th {\n",
       "        vertical-align: top;\n",
       "    }\n",
       "\n",
       "    .dataframe thead th {\n",
       "        text-align: right;\n",
       "    }\n",
       "</style>\n",
       "<table border=\"1\" class=\"dataframe\">\n",
       "  <thead>\n",
       "    <tr style=\"text-align: right;\">\n",
       "      <th></th>\n",
       "      <th>age</th>\n",
       "      <th>scholarship</th>\n",
       "      <th>hipertension</th>\n",
       "      <th>diabetes</th>\n",
       "      <th>alcoholism</th>\n",
       "      <th>handcap</th>\n",
       "      <th>sms_received</th>\n",
       "      <th>no_show</th>\n",
       "      <th>lag</th>\n",
       "    </tr>\n",
       "  </thead>\n",
       "  <tbody>\n",
       "    <tr>\n",
       "      <th>age</th>\n",
       "      <td>1.000000</td>\n",
       "      <td>-0.103038</td>\n",
       "      <td>0.500749</td>\n",
       "      <td>0.284477</td>\n",
       "      <td>0.080350</td>\n",
       "      <td>0.077141</td>\n",
       "      <td>-0.042537</td>\n",
       "      <td>-0.101042</td>\n",
       "      <td>-0.008608</td>\n",
       "    </tr>\n",
       "    <tr>\n",
       "      <th>scholarship</th>\n",
       "      <td>-0.103038</td>\n",
       "      <td>1.000000</td>\n",
       "      <td>-0.027764</td>\n",
       "      <td>-0.025417</td>\n",
       "      <td>0.030529</td>\n",
       "      <td>-0.010446</td>\n",
       "      <td>0.020666</td>\n",
       "      <td>0.045687</td>\n",
       "      <td>-0.026177</td>\n",
       "    </tr>\n",
       "    <tr>\n",
       "      <th>hipertension</th>\n",
       "      <td>0.500749</td>\n",
       "      <td>-0.027764</td>\n",
       "      <td>1.000000</td>\n",
       "      <td>0.425614</td>\n",
       "      <td>0.085821</td>\n",
       "      <td>0.083643</td>\n",
       "      <td>-0.037065</td>\n",
       "      <td>-0.056859</td>\n",
       "      <td>-0.051121</td>\n",
       "    </tr>\n",
       "    <tr>\n",
       "      <th>diabetes</th>\n",
       "      <td>0.284477</td>\n",
       "      <td>-0.025417</td>\n",
       "      <td>0.425614</td>\n",
       "      <td>1.000000</td>\n",
       "      <td>0.024174</td>\n",
       "      <td>0.061513</td>\n",
       "      <td>-0.031219</td>\n",
       "      <td>-0.022412</td>\n",
       "      <td>-0.048246</td>\n",
       "    </tr>\n",
       "    <tr>\n",
       "      <th>alcoholism</th>\n",
       "      <td>0.080350</td>\n",
       "      <td>0.030529</td>\n",
       "      <td>0.085821</td>\n",
       "      <td>0.024174</td>\n",
       "      <td>1.000000</td>\n",
       "      <td>0.013501</td>\n",
       "      <td>-0.009095</td>\n",
       "      <td>0.019864</td>\n",
       "      <td>-0.029137</td>\n",
       "    </tr>\n",
       "    <tr>\n",
       "      <th>handcap</th>\n",
       "      <td>0.077141</td>\n",
       "      <td>-0.010446</td>\n",
       "      <td>0.083643</td>\n",
       "      <td>0.061513</td>\n",
       "      <td>0.013501</td>\n",
       "      <td>1.000000</td>\n",
       "      <td>-0.022107</td>\n",
       "      <td>-0.007184</td>\n",
       "      <td>-0.015865</td>\n",
       "    </tr>\n",
       "    <tr>\n",
       "      <th>sms_received</th>\n",
       "      <td>-0.042537</td>\n",
       "      <td>0.020666</td>\n",
       "      <td>-0.037065</td>\n",
       "      <td>-0.031219</td>\n",
       "      <td>-0.009095</td>\n",
       "      <td>-0.022107</td>\n",
       "      <td>1.000000</td>\n",
       "      <td>-0.020631</td>\n",
       "      <td>0.201789</td>\n",
       "    </tr>\n",
       "    <tr>\n",
       "      <th>no_show</th>\n",
       "      <td>-0.101042</td>\n",
       "      <td>0.045687</td>\n",
       "      <td>-0.056859</td>\n",
       "      <td>-0.022412</td>\n",
       "      <td>0.019864</td>\n",
       "      <td>-0.007184</td>\n",
       "      <td>-0.020631</td>\n",
       "      <td>1.000000</td>\n",
       "      <td>0.060362</td>\n",
       "    </tr>\n",
       "    <tr>\n",
       "      <th>lag</th>\n",
       "      <td>-0.008608</td>\n",
       "      <td>-0.026177</td>\n",
       "      <td>-0.051121</td>\n",
       "      <td>-0.048246</td>\n",
       "      <td>-0.029137</td>\n",
       "      <td>-0.015865</td>\n",
       "      <td>0.201789</td>\n",
       "      <td>0.060362</td>\n",
       "      <td>1.000000</td>\n",
       "    </tr>\n",
       "  </tbody>\n",
       "</table>\n",
       "</div>"
      ],
      "text/plain": [
       "                   age  scholarship  hipertension  diabetes  alcoholism  \\\n",
       "age           1.000000    -0.103038      0.500749  0.284477    0.080350   \n",
       "scholarship  -0.103038     1.000000     -0.027764 -0.025417    0.030529   \n",
       "hipertension  0.500749    -0.027764      1.000000  0.425614    0.085821   \n",
       "diabetes      0.284477    -0.025417      0.425614  1.000000    0.024174   \n",
       "alcoholism    0.080350     0.030529      0.085821  0.024174    1.000000   \n",
       "handcap       0.077141    -0.010446      0.083643  0.061513    0.013501   \n",
       "sms_received -0.042537     0.020666     -0.037065 -0.031219   -0.009095   \n",
       "no_show      -0.101042     0.045687     -0.056859 -0.022412    0.019864   \n",
       "lag          -0.008608    -0.026177     -0.051121 -0.048246   -0.029137   \n",
       "\n",
       "               handcap  sms_received   no_show       lag  \n",
       "age           0.077141     -0.042537 -0.101042 -0.008608  \n",
       "scholarship  -0.010446      0.020666  0.045687 -0.026177  \n",
       "hipertension  0.083643     -0.037065 -0.056859 -0.051121  \n",
       "diabetes      0.061513     -0.031219 -0.022412 -0.048246  \n",
       "alcoholism    0.013501     -0.009095  0.019864 -0.029137  \n",
       "handcap       1.000000     -0.022107 -0.007184 -0.015865  \n",
       "sms_received -0.022107      1.000000 -0.020631  0.201789  \n",
       "no_show      -0.007184     -0.020631  1.000000  0.060362  \n",
       "lag          -0.015865      0.201789  0.060362  1.000000  "
      ]
     },
     "execution_count": 586,
     "metadata": {},
     "output_type": "execute_result"
    }
   ],
   "source": [
    "# Calculating the Correlation Score\n",
    "df_corr.corr()"
   ]
  },
  {
   "cell_type": "markdown",
   "metadata": {},
   "source": [
    "> The correlation score for the **lag days** shows that the number of lag days is the second highest predictor of the No-Shows. With the second highest **absolute correlation score** with respect to the **No-Shows** of **0.06** \n",
    "\n",
    "> Although the correlation score is not sufficient enough to be called a strong predictor of No-Shows, since the highest positive and negative correlations are 1 and -1 respectively. "
   ]
  },
  {
   "cell_type": "markdown",
   "metadata": {},
   "source": [
    "<a id='conclusions'></a>\n",
    "## Conclusions\n",
    "\n",
    "#### 1. Males and Females almost equally miss their appointments. Males 28.7% of the time while males 28.4%\n",
    "\n",
    "#### 2. Those who missed their appointments were slightly younger than those who showed up, with the mean ages being 34.84 and 39.97 years respectively\n",
    "\n",
    "#### 3. Those who were on scholarships were more likely to miss appointments than those who weren't.\n",
    "\n",
    "#### 4. People who received SMS reminders were more likely to show up on their appointment day\n",
    "\n",
    "#### 5. Those that set appointment dates farther in the future were more likely to miss their appointments than those who set their own closer."
   ]
  },
  {
   "cell_type": "markdown",
   "metadata": {},
   "source": [
    "### List Of References\n",
    "\n",
    ">http://ipython.org/\n",
    "\n",
    ">https://www.delftstack.com/howto/python-pandas/pandas-convert-timedelta-to-int/#:~:text=We%20can%20also%20convert%20the,using%20the%20astype()%20attribute.\n",
    "\n",
    ">https://stackoverflow.com/questions/25692293/inserting-a-link-to-a-webpage-in-an-ipython-notebook#:~:text=First%20open%20a%20markdown%20cell,to%20view%20in%20the%20Notebook.\n",
    "\n",
    ">https://ispycode.com/Python/Date-And-Time/Timedelta/Create-Timedelta-Object\n",
    "\n",
    ">https://www.loc.gov/standards/datetime/implementations.html\n"
   ]
  }
 ],
 "metadata": {
  "kernelspec": {
   "display_name": "Python 3 (ipykernel)",
   "language": "python",
   "name": "python3"
  },
  "language_info": {
   "codemirror_mode": {
    "name": "ipython",
    "version": 3
   },
   "file_extension": ".py",
   "mimetype": "text/x-python",
   "name": "python",
   "nbconvert_exporter": "python",
   "pygments_lexer": "ipython3",
   "version": "3.7.4"
  }
 },
 "nbformat": 4,
 "nbformat_minor": 2
}
